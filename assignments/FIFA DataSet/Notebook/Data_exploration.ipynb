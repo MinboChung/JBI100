{
 "cells": [
  {
   "cell_type": "markdown",
   "id": "aade8aa2-066a-4aaa-8caa-74411f172198",
   "metadata": {},
   "source": [
    "# JM0250 Data Visualization \n",
    "### Academic year 2022-2023\n",
    "\n",
    "## FIFA World Cup 2022 Data Exploration\n",
    "Data sources:\n",
    "\n",
    "- FIFA World Cup 2022 Player Data (https://www.kaggle.com/datasets/swaptr/fifa-world-cup-2022-player-data)\n",
    "- FIFA World Cup 2022 Match Data (https://www.kaggle.com/datasets/swaptr/fifa-world-cup-2022-match-data)\n",
    "- FIFA World Cup 2022 Team Data (https://www.kaggle.com/datasets/swaptr/fifa-world-cup-2022-statistics)\n",
    "- FIFA World Cup 2022 Twitter Dataset (https://www.kaggle.com/datasets/kumari2000/fifa-world-cup-twitter-dataset-2022)\n",
    "- FIFA World Cup 2022 Prediction (https://www.kaggle.com/datasets/shilongzhuang/soccer-world-cup-challenge)\n",
    "- FIFA World Cup 2022 Player Images (https://www.kaggle.com/datasets/soumendraprasad/fifa-2022-all-players-image-dataset)\n",
    "- FIFA World Cup Historic (https://www.kaggle.com/datasets/piterfm/fifa-football-world-cup)\n",
    "- FIFA World Cup Penalty Shootouts (https://www.kaggle.com/datasets/pablollanderos33/world-cup-penalty-shootouts, https://www.kaggle.com/datasets/jandimovski/world-cup-penalty-shootouts-2022)\n",
    "\n",
    "Data dictionaries and additional info can be found in the respective data folders."
   ]
  },
  {
   "cell_type": "code",
   "execution_count": 1,
   "id": "c0134aa2-9f13-4f22-a480-43321e6d29d1",
   "metadata": {},
   "outputs": [],
   "source": [
    "# Import libraries\n",
    "import pandas as pd\n",
    "import plotly.express as px\n",
    "import matplotlib.pyplot as plt\n",
    "import numpy as np\n",
    "from PIL import Image\n",
    "import os\n",
    "import pprint as pp\n",
    "pp.PrettyPrinter(indent=6)\n",
    "\n",
    "# Do not truncate tables\n",
    "pd.set_option('display.max_columns', None)"
   ]
  },
  {
   "cell_type": "code",
   "execution_count": 2,
   "id": "9f486a00-395c-46db-b54f-ad46571ad8e1",
   "metadata": {},
   "outputs": [],
   "source": [
    "# Load the data\n",
    "\n",
    "# Match data\n",
    "df_match_data = pd.read_csv('../Data/FIFA World Cup 2022 Match Data/data.csv', delimiter=',')\n",
    "\n",
    "# Player data\n",
    "df_player_defense       = pd.read_csv('../Data/FIFA World Cup 2022 Player Data/player_defense.csv', delimiter=',')\n",
    "df_player_gca           = pd.read_csv('../Data/FIFA World Cup 2022 Player Data/player_gca.csv', delimiter=',')\n",
    "df_player_keepers       = pd.read_csv('../Data/FIFA World Cup 2022 Player Data/player_keepers.csv', delimiter=',')\n",
    "df_player_keepersadv    = pd.read_csv('../Data/FIFA World Cup 2022 Player Data/player_keepersadv.csv', delimiter=',')\n",
    "df_player_misc          = pd.read_csv('../Data/FIFA World Cup 2022 Player Data/player_misc.csv', delimiter=',')\n",
    "df_player_passing       = pd.read_csv('../Data/FIFA World Cup 2022 Player Data/player_passing.csv', delimiter=',')\n",
    "df_player_passing_types = pd.read_csv('../Data/FIFA World Cup 2022 Player Data/player_passing_types.csv', delimiter=',')\n",
    "df_player_playingtime   = pd.read_csv('../Data/FIFA World Cup 2022 Player Data/player_playingtime.csv', delimiter=',')\n",
    "df_player_possession    = pd.read_csv('../Data/FIFA World Cup 2022 Player Data/player_possession.csv', delimiter=',')\n",
    "df_player_shooting      = pd.read_csv('../Data/FIFA World Cup 2022 Player Data/player_shooting.csv', delimiter=',')\n",
    "df_player_stats         = pd.read_csv('../Data/FIFA World Cup 2022 Player Data/player_stats.csv', delimiter=',')\n",
    "\n",
    "# Team data\n",
    "df_team_data        = pd.read_csv('../Data/FIFA World Cup 2022 Team Data/team_data.csv', delimiter=',')\n",
    "df_team_group_stats = pd.read_csv('../Data/FIFA World Cup 2022 Team Data/group_stats.csv', delimiter=',')\n",
    "\n",
    "# Historic data\n",
    "df_historic_fifa_ranking      = pd.read_csv('../Data/FIFA World Cup Historic/fifa_ranking_2022-10-06.csv', delimiter=',')\n",
    "df_historic_matches_1930_2022 = pd.read_csv('../Data/FIFA World Cup Historic/matches_1930_2022.csv', delimiter=',')\n",
    "df_historic_world_cup         = pd.read_csv('../Data/FIFA World Cup Historic/world_cup.csv', delimiter=',')\n",
    "\n",
    "# Penalty shootouts\n",
    "df_penalty_shootouts = pd.read_csv('../Data/FIFA World Cup Penalty Shootouts/WorldCupShootouts.csv', delimiter=',')\n",
    "\n",
    "# Twitter data\n",
    "df_tweets_01 = pd.read_csv('../Data/FIFA World Cup 2022 Twitter Dataset/tweets1.csv', delimiter=';')\n",
    "df_tweets_02 = pd.read_csv('../Data/FIFA World Cup 2022 Twitter Dataset/tweets2.csv', delimiter=';')\n",
    "df_tweets = pd.concat([df_tweets_01, df_tweets_02])\n",
    "\n",
    "# Prediction data\n",
    "df_prediction_groups  = pd.read_csv('../Data/FIFA World Cup 2022 Prediction/2022_world_cup_groups.csv', delimiter=',')\n",
    "df_prediction_matches = pd.read_csv('../Data/FIFA World Cup 2022 Prediction/2022_world_cup_matches.csv', delimiter=',')\n",
    "df_prediction_international_matches = pd.read_csv('../Data/FIFA World Cup 2022 Prediction/international_matches.csv', delimiter=',')\n",
    "df_prediction_world_cup_matches = pd.read_csv('../Data/FIFA World Cup 2022 Prediction/world_cup_matches.csv', delimiter=',')\n",
    "df_prediction_world_cups = pd.read_csv('../Data/FIFA World Cup 2022 Prediction/world_cups.csv', delimiter=',')\n",
    "\n",
    "# Player images\n",
    "def list_full_paths(directory):\n",
    "    return [os.path.join(directory, file) for file in os.listdir(directory)]\n",
    "\n",
    "def img_reshape(img):\n",
    "    img = Image.open(img).convert('RGB')\n",
    "    img = img.resize((300,300))\n",
    "    img = np.asarray(img)\n",
    "    return img\n",
    "\n",
    "def showImages(group, land, player):\n",
    "    images  = list_full_paths('../Data/FIFA World Cup 2022 Player Images/Images/Images/Group ' + group + '/' + land + ' Players/Images_' + player)\n",
    "    img_arr = []\n",
    "    \n",
    "    for image in images:\n",
    "        img_arr.append(img_reshape(image))\n",
    "        \n",
    "    rows = 5\n",
    "    cols = 5\n",
    "    img_count = 0\n",
    "    fig, axes = plt.subplots(nrows=rows, ncols=cols, figsize=((5,5)))\n",
    "                             \n",
    "    for i in range(rows):\n",
    "        for j in range(cols):\n",
    "            if img_count < len(img_arr):\n",
    "                axes[i,j].imshow(img_arr[img_count])\n",
    "                axes[i,j].axis('off')\n",
    "                img_count+=1\n",
    "                \n",
    "    plt.subplots_adjust(wspace=0, hspace=0)\n",
    "    "
   ]
  },
  {
   "cell_type": "code",
   "execution_count": 3,
   "metadata": {},
   "outputs": [],
   "source": [
    "def null_description(df):\n",
    "    data = {}\n",
    "    cols = df.columns\n",
    "    for col in cols:\n",
    "        data[col] = df[col].isna().sum()\n",
    "        data[f\"{col}_null_ratio\"] = df[col].isna().sum()/len(df)\n",
    "    pp.pprint(data)\n",
    "\n",
    "def name_of_null(df):\n",
    "    cols = df.columns\n",
    "    data = {}\n",
    "    for col in cols:\n",
    "        null_indices = df[df[col].isnull()].index.tolist()\n",
    "        data[col+\"_null_players\"] = set(df.loc[null_indices,'player'].values)\n",
    "    pp.pprint(data)\n",
    "\n",
    "def types(df):\n",
    "    cols = df.columns\n",
    "    data = {}\n",
    "    for col in cols:\n",
    "        data[col+\"_type\"] = type(df.loc[0,col])\n",
    "    pp.pprint(data)"
   ]
  },
  {
   "cell_type": "code",
   "execution_count": 4,
   "id": "14de082e-51d3-44af-9a4d-e5f5bced978c",
   "metadata": {},
   "outputs": [
    {
     "name": "stdout",
     "output_type": "stream",
     "text": [
      "df_player_defense\n",
      "{'age_type': <class 'str'>,\n",
      " 'birth_year_type': <class 'numpy.int64'>,\n",
      " 'blocked_passes_type': <class 'numpy.float64'>,\n",
      " 'blocked_shots_type': <class 'numpy.float64'>,\n",
      " 'blocks_type': <class 'numpy.float64'>,\n",
      " 'clearances_type': <class 'numpy.float64'>,\n",
      " 'dribble_tackles_pct_type': <class 'numpy.float64'>,\n",
      " 'dribble_tackles_type': <class 'numpy.float64'>,\n",
      " 'dribbled_past_type': <class 'numpy.float64'>,\n",
      " 'dribbles_vs_type': <class 'numpy.float64'>,\n",
      " 'errors_type': <class 'numpy.float64'>,\n",
      " 'interceptions_type': <class 'numpy.int64'>,\n",
      " 'minutes_90s_type': <class 'numpy.float64'>,\n",
      " 'player_type': <class 'str'>,\n",
      " 'position_type': <class 'str'>,\n",
      " 'tackles_att_3rd_type': <class 'numpy.float64'>,\n",
      " 'tackles_def_3rd_type': <class 'numpy.float64'>,\n",
      " 'tackles_interceptions_type': <class 'numpy.float64'>,\n",
      " 'tackles_mid_3rd_type': <class 'numpy.float64'>,\n",
      " 'tackles_type': <class 'numpy.float64'>,\n",
      " 'tackles_won_type': <class 'numpy.int64'>,\n",
      " 'team_type': <class 'str'>}\n",
      "df_player_gca\n",
      "{'age_type': <class 'str'>,\n",
      " 'birth_year_type': <class 'numpy.int64'>,\n",
      " 'gca_defense_type': <class 'numpy.float64'>,\n",
      " 'gca_dribbles_type': <class 'numpy.float64'>,\n",
      " 'gca_fouled_type': <class 'numpy.float64'>,\n",
      " 'gca_passes_dead_type': <class 'numpy.float64'>,\n",
      " 'gca_passes_live_type': <class 'numpy.float64'>,\n",
      " 'gca_per90_type': <class 'numpy.float64'>,\n",
      " 'gca_shots_type': <class 'numpy.float64'>,\n",
      " 'gca_type': <class 'numpy.float64'>,\n",
      " 'minutes_90s_type': <class 'numpy.float64'>,\n",
      " 'player_type': <class 'str'>,\n",
      " 'position_type': <class 'str'>,\n",
      " 'sca_defense_type': <class 'numpy.float64'>,\n",
      " 'sca_dribbles_type': <class 'numpy.float64'>,\n",
      " 'sca_fouled_type': <class 'numpy.float64'>,\n",
      " 'sca_passes_dead_type': <class 'numpy.float64'>,\n",
      " 'sca_passes_live_type': <class 'numpy.float64'>,\n",
      " 'sca_per90_type': <class 'numpy.float64'>,\n",
      " 'sca_shots_type': <class 'numpy.float64'>,\n",
      " 'sca_type': <class 'numpy.float64'>,\n",
      " 'team_type': <class 'str'>}\n",
      "df_player_keepers\n",
      "{'age_type': <class 'str'>,\n",
      " 'birth_year_type': <class 'numpy.int64'>,\n",
      " 'club_type': <class 'str'>,\n",
      " 'gk_clean_sheets_pct_type': <class 'numpy.float64'>,\n",
      " 'gk_clean_sheets_type': <class 'numpy.int64'>,\n",
      " 'gk_games_starts_type': <class 'numpy.int64'>,\n",
      " 'gk_games_type': <class 'numpy.int64'>,\n",
      " 'gk_goals_against_per90_type': <class 'numpy.float64'>,\n",
      " 'gk_goals_against_type': <class 'numpy.int64'>,\n",
      " 'gk_losses_type': <class 'numpy.int64'>,\n",
      " 'gk_minutes_type': <class 'numpy.int64'>,\n",
      " 'gk_pens_allowed_type': <class 'numpy.int64'>,\n",
      " 'gk_pens_att_type': <class 'numpy.int64'>,\n",
      " 'gk_pens_missed_type': <class 'numpy.int64'>,\n",
      " 'gk_pens_save_pct_type': <class 'numpy.float64'>,\n",
      " 'gk_pens_saved_type': <class 'numpy.int64'>,\n",
      " 'gk_save_pct_type': <class 'numpy.float64'>,\n",
      " 'gk_saves_type': <class 'numpy.int64'>,\n",
      " 'gk_shots_on_target_against_type': <class 'numpy.int64'>,\n",
      " 'gk_ties_type': <class 'numpy.int64'>,\n",
      " 'gk_wins_type': <class 'numpy.int64'>,\n",
      " 'minutes_90s_type': <class 'numpy.float64'>,\n",
      " 'player_type': <class 'str'>,\n",
      " 'position_type': <class 'str'>,\n",
      " 'team_type': <class 'str'>}\n",
      "df_player_keepersadv\n",
      "{'age_type': <class 'str'>,\n",
      " 'birth_year_type': <class 'numpy.int64'>,\n",
      " 'gk_avg_distance_def_actions_type': <class 'numpy.float64'>,\n",
      " 'gk_corner_kick_goals_against_type': <class 'numpy.int64'>,\n",
      " 'gk_crosses_stopped_pct_type': <class 'numpy.float64'>,\n",
      " 'gk_crosses_stopped_type': <class 'numpy.int64'>,\n",
      " 'gk_crosses_type': <class 'numpy.int64'>,\n",
      " 'gk_def_actions_outside_pen_area_per90_type': <class 'numpy.float64'>,\n",
      " 'gk_def_actions_outside_pen_area_type': <class 'numpy.int64'>,\n",
      " 'gk_free_kick_goals_against_type': <class 'numpy.int64'>,\n",
      " 'gk_goal_kick_length_avg_type': <class 'numpy.float64'>,\n",
      " 'gk_goal_kicks_type': <class 'numpy.int64'>,\n",
      " 'gk_goals_against_type': <class 'numpy.int64'>,\n",
      " 'gk_own_goals_against_type': <class 'numpy.int64'>,\n",
      " 'gk_passes_completed_launched_type': <class 'numpy.int64'>,\n",
      " 'gk_passes_launched_type': <class 'numpy.int64'>,\n",
      " 'gk_passes_length_avg_type': <class 'numpy.float64'>,\n",
      " 'gk_passes_pct_launched_type': <class 'numpy.float64'>,\n",
      " 'gk_passes_throws_type': <class 'numpy.int64'>,\n",
      " 'gk_passes_type': <class 'numpy.int64'>,\n",
      " 'gk_pct_goal_kicks_launched_type': <class 'numpy.float64'>,\n",
      " 'gk_pct_passes_launched_type': <class 'numpy.float64'>,\n",
      " 'gk_pens_allowed_type': <class 'numpy.int64'>,\n",
      " 'gk_psnpxg_per_shot_on_target_against_type': <class 'numpy.float64'>,\n",
      " 'gk_psxg_net_per90_type': <class 'numpy.float64'>,\n",
      " 'gk_psxg_net_type': <class 'numpy.float64'>,\n",
      " 'gk_psxg_type': <class 'numpy.float64'>,\n",
      " 'minutes_90s_type': <class 'numpy.float64'>,\n",
      " 'player_type': <class 'str'>,\n",
      " 'position_type': <class 'str'>,\n",
      " 'team_type': <class 'str'>}\n",
      "df_player_misc\n",
      "{'aerials_lost_type': <class 'numpy.float64'>,\n",
      " 'aerials_won_pct_type': <class 'numpy.float64'>,\n",
      " 'aerials_won_type': <class 'numpy.float64'>,\n",
      " 'age_type': <class 'str'>,\n",
      " 'ball_recoveries_type': <class 'numpy.float64'>,\n",
      " 'birth_year_type': <class 'numpy.int64'>,\n",
      " 'cards_red_type': <class 'numpy.int64'>,\n",
      " 'cards_yellow_red_type': <class 'numpy.int64'>,\n",
      " 'cards_yellow_type': <class 'numpy.int64'>,\n",
      " 'crosses_type': <class 'numpy.int64'>,\n",
      " 'fouled_type': <class 'numpy.int64'>,\n",
      " 'fouls_type': <class 'numpy.int64'>,\n",
      " 'interceptions_type': <class 'numpy.int64'>,\n",
      " 'minutes_90s_type': <class 'numpy.float64'>,\n",
      " 'offsides_type': <class 'numpy.int64'>,\n",
      " 'own_goals_type': <class 'numpy.int64'>,\n",
      " 'pens_conceded_type': <class 'numpy.float64'>,\n",
      " 'pens_won_type': <class 'numpy.float64'>,\n",
      " 'player_type': <class 'str'>,\n",
      " 'position_type': <class 'str'>,\n",
      " 'tackles_won_type': <class 'numpy.int64'>,\n",
      " 'team_type': <class 'str'>}\n",
      "df_player_passing\n",
      "{'age_type': <class 'str'>,\n",
      " 'assisted_shots_type': <class 'numpy.float64'>,\n",
      " 'assists_type': <class 'numpy.int64'>,\n",
      " 'birth_year_type': <class 'numpy.int64'>,\n",
      " 'crosses_into_penalty_area_type': <class 'numpy.float64'>,\n",
      " 'minutes_90s_type': <class 'numpy.float64'>,\n",
      " 'pass_xa_type': <class 'numpy.float64'>,\n",
      " 'passes_completed_long_type': <class 'numpy.float64'>,\n",
      " 'passes_completed_medium_type': <class 'numpy.float64'>,\n",
      " 'passes_completed_short_type': <class 'numpy.float64'>,\n",
      " 'passes_completed_type': <class 'numpy.float64'>,\n",
      " 'passes_into_final_third_type': <class 'numpy.float64'>,\n",
      " 'passes_into_penalty_area_type': <class 'numpy.float64'>,\n",
      " 'passes_long_type': <class 'numpy.float64'>,\n",
      " 'passes_medium_type': <class 'numpy.float64'>,\n",
      " 'passes_pct_long_type': <class 'numpy.float64'>,\n",
      " 'passes_pct_medium_type': <class 'numpy.float64'>,\n",
      " 'passes_pct_short_type': <class 'numpy.float64'>,\n",
      " 'passes_pct_type': <class 'numpy.float64'>,\n",
      " 'passes_progressive_distance_type': <class 'numpy.float64'>,\n",
      " 'passes_short_type': <class 'numpy.float64'>,\n",
      " 'passes_total_distance_type': <class 'numpy.float64'>,\n",
      " 'passes_type': <class 'numpy.float64'>,\n",
      " 'player_type': <class 'str'>,\n",
      " 'position_type': <class 'str'>,\n",
      " 'progressive_passes_type': <class 'numpy.float64'>,\n",
      " 'team_type': <class 'str'>,\n",
      " 'xg_assist_net_type': <class 'numpy.float64'>,\n",
      " 'xg_assist_type': <class 'numpy.float64'>}\n",
      "df_player_passing_types\n",
      "{'age_type': <class 'str'>,\n",
      " 'birth_year_type': <class 'numpy.int64'>,\n",
      " 'corner_kicks_in_type': <class 'numpy.float64'>,\n",
      " 'corner_kicks_out_type': <class 'numpy.float64'>,\n",
      " 'corner_kicks_straight_type': <class 'numpy.float64'>,\n",
      " 'corner_kicks_type': <class 'numpy.float64'>,\n",
      " 'crosses_type': <class 'numpy.int64'>,\n",
      " 'minutes_90s_type': <class 'numpy.float64'>,\n",
      " 'passes_blocked_type': <class 'numpy.float64'>,\n",
      " 'passes_completed_type': <class 'numpy.float64'>,\n",
      " 'passes_dead_type': <class 'numpy.float64'>,\n",
      " 'passes_free_kicks_type': <class 'numpy.float64'>,\n",
      " 'passes_live_type': <class 'numpy.float64'>,\n",
      " 'passes_offsides_type': <class 'numpy.float64'>,\n",
      " 'passes_switches_type': <class 'numpy.float64'>,\n",
      " 'passes_type': <class 'numpy.float64'>,\n",
      " 'player_type': <class 'str'>,\n",
      " 'position_type': <class 'str'>,\n",
      " 'team_type': <class 'str'>,\n",
      " 'through_balls_type': <class 'numpy.float64'>,\n",
      " 'throw_ins_type': <class 'numpy.float64'>}\n",
      "df_player_playingtime\n",
      "{'age_type': <class 'str'>,\n",
      " 'birth_year_type': <class 'numpy.int64'>,\n",
      " 'games_complete_type': <class 'numpy.int64'>,\n",
      " 'games_starts_type': <class 'numpy.int64'>,\n",
      " 'games_subs_type': <class 'numpy.int64'>,\n",
      " 'games_type': <class 'numpy.int64'>,\n",
      " 'minutes_90s_type': <class 'numpy.float64'>,\n",
      " 'minutes_pct_type': <class 'numpy.float64'>,\n",
      " 'minutes_per_game_type': <class 'numpy.float64'>,\n",
      " 'minutes_per_start_type': <class 'numpy.float64'>,\n",
      " 'minutes_per_sub_type': <class 'numpy.float64'>,\n",
      " 'minutes_type': <class 'numpy.float64'>,\n",
      " 'on_goals_against_type': <class 'numpy.float64'>,\n",
      " 'on_goals_for_type': <class 'numpy.float64'>,\n",
      " 'on_xg_against_type': <class 'numpy.float64'>,\n",
      " 'on_xg_for_type': <class 'numpy.float64'>,\n",
      " 'player_type': <class 'str'>,\n",
      " 'plus_minus_per90_type': <class 'numpy.float64'>,\n",
      " 'plus_minus_type': <class 'numpy.float64'>,\n",
      " 'plus_minus_wowy_type': <class 'numpy.float64'>,\n",
      " 'points_per_game_type': <class 'numpy.float64'>,\n",
      " 'position_type': <class 'str'>,\n",
      " 'team_type': <class 'str'>,\n",
      " 'unused_subs_type': <class 'numpy.int64'>,\n",
      " 'xg_plus_minus_per90_type': <class 'numpy.float64'>,\n",
      " 'xg_plus_minus_type': <class 'numpy.float64'>,\n",
      " 'xg_plus_minus_wowy_type': <class 'numpy.float64'>}\n",
      "df_player_possession\n",
      "{'age_type': <class 'str'>,\n",
      " 'birth_year_type': <class 'numpy.int64'>,\n",
      " 'dispossessed_type': <class 'numpy.float64'>,\n",
      " 'dribbles_completed_pct_type': <class 'numpy.float64'>,\n",
      " 'dribbles_completed_type': <class 'numpy.float64'>,\n",
      " 'dribbles_type': <class 'numpy.float64'>,\n",
      " 'minutes_90s_type': <class 'numpy.float64'>,\n",
      " 'miscontrols_type': <class 'numpy.float64'>,\n",
      " 'passes_received_type': <class 'numpy.float64'>,\n",
      " 'player_type': <class 'str'>,\n",
      " 'position_type': <class 'str'>,\n",
      " 'progressive_passes_received_type': <class 'numpy.float64'>,\n",
      " 'team_type': <class 'str'>,\n",
      " 'touches_att_3rd_type': <class 'numpy.float64'>,\n",
      " 'touches_att_pen_area_type': <class 'numpy.float64'>,\n",
      " 'touches_def_3rd_type': <class 'numpy.float64'>,\n",
      " 'touches_def_pen_area_type': <class 'numpy.float64'>,\n",
      " 'touches_live_ball_type': <class 'numpy.float64'>,\n",
      " 'touches_mid_3rd_type': <class 'numpy.float64'>,\n",
      " 'touches_type': <class 'numpy.float64'>}\n",
      "df_player_shooting\n",
      "{'age_type': <class 'str'>,\n",
      " 'average_shot_distance_type': <class 'numpy.float64'>,\n",
      " 'birth_year_type': <class 'numpy.int64'>,\n",
      " 'goals_per_shot_on_target_type': <class 'numpy.float64'>,\n",
      " 'goals_per_shot_type': <class 'numpy.float64'>,\n",
      " 'goals_type': <class 'numpy.int64'>,\n",
      " 'minutes_90s_type': <class 'numpy.float64'>,\n",
      " 'npxg_net_type': <class 'numpy.float64'>,\n",
      " 'npxg_per_shot_type': <class 'numpy.float64'>,\n",
      " 'npxg_type': <class 'numpy.float64'>,\n",
      " 'pens_att_type': <class 'numpy.int64'>,\n",
      " 'pens_made_type': <class 'numpy.int64'>,\n",
      " 'player_type': <class 'str'>,\n",
      " 'position_type': <class 'str'>,\n",
      " 'shots_free_kicks_type': <class 'numpy.float64'>,\n",
      " 'shots_on_target_pct_type': <class 'numpy.float64'>,\n",
      " 'shots_on_target_per90_type': <class 'numpy.float64'>,\n",
      " 'shots_on_target_type': <class 'numpy.int64'>,\n",
      " 'shots_per90_type': <class 'numpy.float64'>,\n",
      " 'shots_type': <class 'numpy.int64'>,\n",
      " 'team_type': <class 'str'>,\n",
      " 'xg_net_type': <class 'numpy.float64'>,\n",
      " 'xg_type': <class 'numpy.float64'>}\n",
      "df_player_stats\n",
      "{'age_type': <class 'str'>,\n",
      " 'assists_per90_type': <class 'numpy.float64'>,\n",
      " 'assists_type': <class 'numpy.int64'>,\n",
      " 'birth_year_type': <class 'numpy.int64'>,\n",
      " 'cards_red_type': <class 'numpy.int64'>,\n",
      " 'cards_yellow_type': <class 'numpy.int64'>,\n",
      " 'club_type': <class 'str'>,\n",
      " 'games_starts_type': <class 'numpy.int64'>,\n",
      " 'games_type': <class 'numpy.int64'>,\n",
      " 'goals_assists_pens_per90_type': <class 'numpy.float64'>,\n",
      " 'goals_assists_per90_type': <class 'numpy.float64'>,\n",
      " 'goals_pens_per90_type': <class 'numpy.float64'>,\n",
      " 'goals_pens_type': <class 'numpy.int64'>,\n",
      " 'goals_per90_type': <class 'numpy.float64'>,\n",
      " 'goals_type': <class 'numpy.int64'>,\n",
      " 'minutes_90s_type': <class 'numpy.float64'>,\n",
      " 'minutes_type': <class 'numpy.int64'>,\n",
      " 'npxg_per90_type': <class 'numpy.float64'>,\n",
      " 'npxg_type': <class 'numpy.float64'>,\n",
      " 'npxg_xg_assist_per90_type': <class 'numpy.float64'>,\n",
      " 'npxg_xg_assist_type': <class 'numpy.float64'>,\n",
      " 'pens_att_type': <class 'numpy.int64'>,\n",
      " 'pens_made_type': <class 'numpy.int64'>,\n",
      " 'player_type': <class 'str'>,\n",
      " 'position_type': <class 'str'>,\n",
      " 'team_type': <class 'str'>,\n",
      " 'xg_assist_per90_type': <class 'numpy.float64'>,\n",
      " 'xg_assist_type': <class 'numpy.float64'>,\n",
      " 'xg_per90_type': <class 'numpy.float64'>,\n",
      " 'xg_type': <class 'numpy.float64'>,\n",
      " 'xg_xg_assist_per90_type': <class 'numpy.float64'>}\n"
     ]
    }
   ],
   "source": [
    "l = [\"df_player_defense\",\n",
    "\"df_player_gca\",\n",
    "\"df_player_keepers\",\n",
    "\"df_player_keepersadv\",\n",
    "\"df_player_misc\",\n",
    "\"df_player_passing\",\n",
    "\"df_player_passing_types\",\n",
    "\"df_player_playingtime\",\n",
    "\"df_player_possession\",\n",
    "\"df_player_shooting\",\n",
    "\"df_player_stats\"]\n",
    "df_list = [df_player_defense,df_player_gca,df_player_keepers,\n",
    "df_player_keepersadv,df_player_misc,df_player_passing,\n",
    "df_player_passing_types,df_player_playingtime,\n",
    "df_player_possession,df_player_shooting, df_player_stats]\n",
    "for i,df in enumerate(df_list):\n",
    "    print(l[i])\n",
    "    types(df)\n",
    "    "
   ]
  },
  {
   "cell_type": "markdown",
   "metadata": {},
   "source": [
    "## Preprocessing"
   ]
  },
  {
   "cell_type": "code",
   "execution_count": 5,
   "metadata": {},
   "outputs": [],
   "source": [
    "import re"
   ]
  },
  {
   "cell_type": "code",
   "execution_count": 6,
   "metadata": {},
   "outputs": [],
   "source": [
    "df_match_data['score'] = df_match_data['score'].astype(str)\n",
    "def filter_val(score_string):\n",
    "    res = None\n",
    "    # # val = \"(1) 2-3 (4)\"\n",
    "    # # val = \"1-3\"\n",
    "    pattern = f\"(\\((\\d+)\\)\\ )?((\\d+){chr(8211)}(\\d+))(\\ \\((\\d+)\\))?\" \n",
    "    # take a note on this - can be 8211 or 45\n",
    "    \n",
    "    match = re.match(pattern, score_string)\n",
    "    if match:\n",
    "        groups = match.groups()\n",
    "        _, score_penalty_home, _, score_home, \\\n",
    "        score_away, _, score_penalty_away = groups\n",
    "        if score_penalty_away != None and score_penalty_home != None:\n",
    "            score_penalty_away = int(score_penalty_away)\n",
    "            score_penalty_home = int(score_penalty_home)\n",
    "        res = score_penalty_home, int(score_home), int(score_away), score_penalty_away \n",
    "    else:\n",
    "        print(\"No match founds\")\n",
    "\n",
    "    return res"
   ]
  },
  {
   "cell_type": "code",
   "execution_count": 7,
   "metadata": {},
   "outputs": [
    {
     "data": {
      "text/plain": [
       "680"
      ]
     },
     "execution_count": 7,
     "metadata": {},
     "output_type": "execute_result"
    }
   ],
   "source": [
    "len(df_player_defense)"
   ]
  },
  {
   "cell_type": "code",
   "execution_count": 9,
   "id": "519bc539",
   "metadata": {},
   "outputs": [
    {
     "data": {
      "text/plain": [
       "('2022-11-20 19:00:00', '2022-12-18 18:00:00')"
      ]
     },
     "execution_count": 9,
     "metadata": {},
     "output_type": "execute_result"
    }
   ],
   "source": [
    "df_match_data['match_time'].min(), df_match_data['match_time'].max()"
   ]
  },
  {
   "cell_type": "code",
   "execution_count": 8,
   "id": "e877d333-3bac-45f3-b1e8-caae6a62820a",
   "metadata": {},
   "outputs": [
    {
     "data": {
      "text/html": [
       "<div>\n",
       "<style scoped>\n",
       "    .dataframe tbody tr th:only-of-type {\n",
       "        vertical-align: middle;\n",
       "    }\n",
       "\n",
       "    .dataframe tbody tr th {\n",
       "        vertical-align: top;\n",
       "    }\n",
       "\n",
       "    .dataframe thead th {\n",
       "        text-align: right;\n",
       "    }\n",
       "</style>\n",
       "<table border=\"1\" class=\"dataframe\">\n",
       "  <thead>\n",
       "    <tr style=\"text-align: right;\">\n",
       "      <th></th>\n",
       "      <th>match</th>\n",
       "      <th>dayofweek</th>\n",
       "      <th>match_time</th>\n",
       "      <th>home_team</th>\n",
       "      <th>away_team</th>\n",
       "      <th>home_xg</th>\n",
       "      <th>away_xg</th>\n",
       "      <th>score</th>\n",
       "      <th>attendance</th>\n",
       "      <th>venue</th>\n",
       "      <th>referee</th>\n",
       "      <th>home_formation</th>\n",
       "      <th>away_formation</th>\n",
       "      <th>home_captain</th>\n",
       "      <th>away_captain</th>\n",
       "      <th>home_manager</th>\n",
       "      <th>away_manager</th>\n",
       "      <th>home_possession</th>\n",
       "      <th>away_possession</th>\n",
       "      <th>home_completed_passes</th>\n",
       "      <th>home_attempted_pases</th>\n",
       "      <th>away_completed_passes</th>\n",
       "      <th>away_attempted_pases</th>\n",
       "      <th>home_sot</th>\n",
       "      <th>away_sot</th>\n",
       "      <th>home_total_shots</th>\n",
       "      <th>away_total_shots</th>\n",
       "      <th>home_saves</th>\n",
       "      <th>away_saves</th>\n",
       "      <th>home_fouls</th>\n",
       "      <th>away_fouls</th>\n",
       "      <th>home_corners</th>\n",
       "      <th>away_corners</th>\n",
       "      <th>home_crosses</th>\n",
       "      <th>away_crosses</th>\n",
       "      <th>home_touches</th>\n",
       "      <th>away_touches</th>\n",
       "      <th>home_tackles</th>\n",
       "      <th>away_tackles</th>\n",
       "      <th>home_interceptions</th>\n",
       "      <th>away_interceptions</th>\n",
       "      <th>home_aerials_won</th>\n",
       "      <th>away_aerials_won</th>\n",
       "      <th>home_clearances</th>\n",
       "      <th>away_clearances</th>\n",
       "      <th>home_offsides</th>\n",
       "      <th>away_offsides</th>\n",
       "      <th>home_gks</th>\n",
       "      <th>away_gks</th>\n",
       "      <th>home_throw_ins</th>\n",
       "      <th>away_throw_ins</th>\n",
       "      <th>home_long_balls</th>\n",
       "      <th>away_long_balls</th>\n",
       "      <th>score_penalty_home</th>\n",
       "      <th>score_home</th>\n",
       "      <th>score_away</th>\n",
       "      <th>score_penalty_away</th>\n",
       "    </tr>\n",
       "  </thead>\n",
       "  <tbody>\n",
       "    <tr>\n",
       "      <th>0</th>\n",
       "      <td>1</td>\n",
       "      <td>Sun</td>\n",
       "      <td>2022-11-20 19:00:00</td>\n",
       "      <td>Qatar</td>\n",
       "      <td>Ecuador</td>\n",
       "      <td>0.3</td>\n",
       "      <td>1.2</td>\n",
       "      <td>0–2</td>\n",
       "      <td>67372</td>\n",
       "      <td>Al Bayt Stadium</td>\n",
       "      <td>Daniele Orsato</td>\n",
       "      <td>5-3-2</td>\n",
       "      <td>4-4-2</td>\n",
       "      <td>Hassan Al-Haydos</td>\n",
       "      <td>Enner Valencia</td>\n",
       "      <td>Félix Sánchez</td>\n",
       "      <td>Gustavo Alfaro</td>\n",
       "      <td>47</td>\n",
       "      <td>53</td>\n",
       "      <td>377</td>\n",
       "      <td>469</td>\n",
       "      <td>430</td>\n",
       "      <td>522</td>\n",
       "      <td>0</td>\n",
       "      <td>2</td>\n",
       "      <td>5</td>\n",
       "      <td>5</td>\n",
       "      <td>1</td>\n",
       "      <td>0</td>\n",
       "      <td>15</td>\n",
       "      <td>15</td>\n",
       "      <td>1</td>\n",
       "      <td>3</td>\n",
       "      <td>8</td>\n",
       "      <td>14</td>\n",
       "      <td>549</td>\n",
       "      <td>601</td>\n",
       "      <td>10</td>\n",
       "      <td>14</td>\n",
       "      <td>2</td>\n",
       "      <td>12</td>\n",
       "      <td>14</td>\n",
       "      <td>13</td>\n",
       "      <td>18</td>\n",
       "      <td>7</td>\n",
       "      <td>3</td>\n",
       "      <td>4</td>\n",
       "      <td>4</td>\n",
       "      <td>7</td>\n",
       "      <td>20</td>\n",
       "      <td>17</td>\n",
       "      <td>51</td>\n",
       "      <td>70</td>\n",
       "      <td>NaN</td>\n",
       "      <td>0.0</td>\n",
       "      <td>2.0</td>\n",
       "      <td>NaN</td>\n",
       "    </tr>\n",
       "  </tbody>\n",
       "</table>\n",
       "</div>"
      ],
      "text/plain": [
       "   match dayofweek           match_time home_team away_team  home_xg  away_xg  \\\n",
       "0      1       Sun  2022-11-20 19:00:00     Qatar   Ecuador      0.3      1.2   \n",
       "\n",
       "  score  attendance            venue         referee home_formation  \\\n",
       "0   0–2       67372  Al Bayt Stadium  Daniele Orsato          5-3-2   \n",
       "\n",
       "  away_formation      home_captain    away_captain   home_manager  \\\n",
       "0          4-4-2  Hassan Al-Haydos  Enner Valencia  Félix Sánchez   \n",
       "\n",
       "     away_manager  home_possession  away_possession  home_completed_passes  \\\n",
       "0  Gustavo Alfaro               47               53                    377   \n",
       "\n",
       "   home_attempted_pases  away_completed_passes  away_attempted_pases  \\\n",
       "0                   469                    430                   522   \n",
       "\n",
       "   home_sot  away_sot  home_total_shots  away_total_shots  home_saves  \\\n",
       "0         0         2                 5                 5           1   \n",
       "\n",
       "   away_saves  home_fouls  away_fouls  home_corners  away_corners  \\\n",
       "0           0          15          15             1             3   \n",
       "\n",
       "   home_crosses  away_crosses  home_touches  away_touches  home_tackles  \\\n",
       "0             8            14           549           601            10   \n",
       "\n",
       "   away_tackles  home_interceptions  away_interceptions  home_aerials_won  \\\n",
       "0            14                   2                  12                14   \n",
       "\n",
       "   away_aerials_won  home_clearances  away_clearances  home_offsides  \\\n",
       "0                13               18                7              3   \n",
       "\n",
       "   away_offsides  home_gks  away_gks  home_throw_ins  away_throw_ins  \\\n",
       "0              4         4         7              20              17   \n",
       "\n",
       "   home_long_balls  away_long_balls  score_penalty_home  score_home  \\\n",
       "0               51               70                 NaN         0.0   \n",
       "\n",
       "   score_away  score_penalty_away  \n",
       "0         2.0                 NaN  "
      ]
     },
     "metadata": {},
     "output_type": "display_data"
    },
    {
     "data": {
      "application/vnd.plotly.v1+json": {
       "config": {
        "plotlyServerURL": "https://plot.ly"
       },
       "data": [
        {
         "hovertemplate": "venue=Al Bayt Stadium<br>home_possession=%{x}<br>score_home=%{y}<br>attendance=%{marker.size}<extra></extra>",
         "legendgroup": "Al Bayt Stadium",
         "marker": {
          "color": "#636efa",
          "size": [
           67372,
           66784,
           67054,
           65985,
           68895,
           68294
          ],
          "sizemode": "area",
          "sizeref": 222.415,
          "symbol": "circle"
         },
         "mode": "markers",
         "name": "Al Bayt Stadium",
         "orientation": "v",
         "showlegend": true,
         "type": "scatter",
         "x": [
          47,
          63,
          32,
          61,
          57,
          39
         ],
         "xaxis": "x",
         "y": [
          0,
          2,
          2,
          3,
          1,
          2
         ],
         "yaxis": "y"
        },
        {
         "hovertemplate": "venue=Khalifa International Stadium<br>home_possession=%{x}<br>score_home=%{y}<br>attendance=%{marker.size}<extra></extra>",
         "legendgroup": "Khalifa International Stadium",
         "marker": {
          "color": "#EF553B",
          "size": [
           45334,
           42608,
           44374,
           44569,
           44851,
           44846,
           44137
          ],
          "sizemode": "area",
          "sizeref": 222.415,
          "symbol": "circle"
         },
         "mode": "markers",
         "name": "Khalifa International Stadium",
         "orientation": "v",
         "showlegend": true,
         "type": "scatter",
         "x": [
          77,
          74,
          49,
          61,
          18,
          42,
          50
         ],
         "xaxis": "x",
         "y": [
          6,
          1,
          4,
          1,
          2,
          3,
          2
         ],
         "yaxis": "y"
        },
        {
         "hovertemplate": "venue=Al Thumama Stadium<br>home_possession=%{x}<br>score_home=%{y}<br>attendance=%{marker.size}<extra></extra>",
         "legendgroup": "Al Thumama Stadium",
         "marker": {
          "color": "#00cc96",
          "size": [
           41721,
           40013,
           41797,
           43738,
           42127,
           43102,
           40989,
           44198
          ],
          "sizemode": "area",
          "sizeref": 222.415,
          "symbol": "circle"
         },
         "mode": "markers",
         "name": "Al Thumama Stadium",
         "orientation": "v",
         "showlegend": true,
         "type": "scatter",
         "x": [
          46,
          81,
          45,
          67,
          49,
          58,
          55,
          27
         ],
         "xaxis": "x",
         "y": [
          0,
          7,
          1,
          0,
          0,
          1,
          3,
          1
         ],
         "yaxis": "y"
        },
        {
         "hovertemplate": "venue=Lusail Iconic Stadium<br>home_possession=%{x}<br>score_home=%{y}<br>attendance=%{marker.size}<extra></extra>",
         "legendgroup": "Lusail Iconic Stadium",
         "marker": {
          "color": "#ab63fa",
          "size": [
           88012,
           88103,
           88966,
           88668,
           84985,
           85986,
           83720,
           88966
          ],
          "sizemode": "area",
          "sizeref": 222.415,
          "symbol": "circle"
         },
         "mode": "markers",
         "name": "Lusail Iconic Stadium",
         "orientation": "v",
         "showlegend": true,
         "type": "scatter",
         "x": [
          69,
          59,
          58,
          59,
          40,
          35,
          47,
          40
         ],
         "xaxis": "x",
         "y": [
          1,
          2,
          2,
          2,
          1,
          1,
          6,
          3
         ],
         "yaxis": "y"
        },
        {
         "hovertemplate": "venue=Al Janoub Stadium<br>home_possession=%{x}<br>score_home=%{y}<br>attendance=%{marker.size}<extra></extra>",
         "legendgroup": "Al Janoub Stadium",
         "marker": {
          "color": "#FFA15A",
          "size": [
           40875,
           39089,
           41823,
           41232,
           43443
          ],
          "sizemode": "area",
          "sizeref": 222.415,
          "symbol": "circle"
         },
         "mode": "markers",
         "name": "Al Janoub Stadium",
         "orientation": "v",
         "showlegend": true,
         "type": "scatter",
         "x": [
          62,
          51,
          59,
          32,
          51
         ],
         "xaxis": "x",
         "y": [
          4,
          1,
          0,
          1,
          0
         ],
         "yaxis": "y"
        },
        {
         "hovertemplate": "venue=Ahmed bin Ali Stadium<br>home_possession=%{x}<br>score_home=%{y}<br>attendance=%{marker.size}<extra></extra>",
         "legendgroup": "Ahmed bin Ali Stadium",
         "marker": {
          "color": "#19d3f3",
          "size": [
           40432,
           40875,
           41479,
           44297,
           45032
          ],
          "sizemode": "area",
          "sizeref": 222.415,
          "symbol": "circle"
         },
         "mode": "markers",
         "name": "Ahmed bin Ali Stadium",
         "orientation": "v",
         "showlegend": true,
         "type": "scatter",
         "x": [
          53,
          62,
          57,
          36,
          60
         ],
         "xaxis": "x",
         "y": [
          1,
          0,
          0,
          0,
          2
         ],
         "yaxis": "y"
        },
        {
         "hovertemplate": "venue=Stadium 974<br>home_possession=%{x}<br>score_home=%{y}<br>attendance=%{marker.size}<extra></extra>",
         "legendgroup": "Stadium 974",
         "marker": {
          "color": "#FF6692",
          "size": [
           42662,
           42860,
           43649,
           44089,
           41378,
           43847
          ],
          "sizemode": "area",
          "sizeref": 222.415,
          "symbol": "circle"
         },
         "mode": "markers",
         "name": "Stadium 974",
         "orientation": "v",
         "showlegend": true,
         "type": "scatter",
         "x": [
          62,
          49,
          54,
          27,
          54,
          53
         ],
         "xaxis": "x",
         "y": [
          3,
          2,
          1,
          0,
          2,
          4
         ],
         "yaxis": "y"
        },
        {
         "hovertemplate": "venue=Education City Stadium<br>home_possession=%{x}<br>score_home=%{y}<br>attendance=%{marker.size}<extra></extra>",
         "legendgroup": "Education City Stadium",
         "marker": {
          "color": "#B6E880",
          "size": [
           44259,
           43983,
           43627,
           44097
          ],
          "sizemode": "area",
          "sizeref": 222.415,
          "symbol": "circle"
         },
         "mode": "markers",
         "name": "Education City Stadium",
         "orientation": "v",
         "showlegend": true,
         "type": "scatter",
         "x": [
          37,
          63,
          35,
          39
         ],
         "xaxis": "x",
         "y": [
          2,
          2,
          1,
          2
         ],
         "yaxis": "y"
        }
       ],
       "layout": {
        "height": 800,
        "legend": {
         "itemsizing": "constant",
         "title": {
          "text": "venue"
         },
         "tracegroupgap": 0
        },
        "margin": {
         "t": 60
        },
        "template": {
         "data": {
          "bar": [
           {
            "error_x": {
             "color": "#2a3f5f"
            },
            "error_y": {
             "color": "#2a3f5f"
            },
            "marker": {
             "line": {
              "color": "#E5ECF6",
              "width": 0.5
             },
             "pattern": {
              "fillmode": "overlay",
              "size": 10,
              "solidity": 0.2
             }
            },
            "type": "bar"
           }
          ],
          "barpolar": [
           {
            "marker": {
             "line": {
              "color": "#E5ECF6",
              "width": 0.5
             },
             "pattern": {
              "fillmode": "overlay",
              "size": 10,
              "solidity": 0.2
             }
            },
            "type": "barpolar"
           }
          ],
          "carpet": [
           {
            "aaxis": {
             "endlinecolor": "#2a3f5f",
             "gridcolor": "white",
             "linecolor": "white",
             "minorgridcolor": "white",
             "startlinecolor": "#2a3f5f"
            },
            "baxis": {
             "endlinecolor": "#2a3f5f",
             "gridcolor": "white",
             "linecolor": "white",
             "minorgridcolor": "white",
             "startlinecolor": "#2a3f5f"
            },
            "type": "carpet"
           }
          ],
          "choropleth": [
           {
            "colorbar": {
             "outlinewidth": 0,
             "ticks": ""
            },
            "type": "choropleth"
           }
          ],
          "contour": [
           {
            "colorbar": {
             "outlinewidth": 0,
             "ticks": ""
            },
            "colorscale": [
             [
              0,
              "#0d0887"
             ],
             [
              0.1111111111111111,
              "#46039f"
             ],
             [
              0.2222222222222222,
              "#7201a8"
             ],
             [
              0.3333333333333333,
              "#9c179e"
             ],
             [
              0.4444444444444444,
              "#bd3786"
             ],
             [
              0.5555555555555556,
              "#d8576b"
             ],
             [
              0.6666666666666666,
              "#ed7953"
             ],
             [
              0.7777777777777778,
              "#fb9f3a"
             ],
             [
              0.8888888888888888,
              "#fdca26"
             ],
             [
              1,
              "#f0f921"
             ]
            ],
            "type": "contour"
           }
          ],
          "contourcarpet": [
           {
            "colorbar": {
             "outlinewidth": 0,
             "ticks": ""
            },
            "type": "contourcarpet"
           }
          ],
          "heatmap": [
           {
            "colorbar": {
             "outlinewidth": 0,
             "ticks": ""
            },
            "colorscale": [
             [
              0,
              "#0d0887"
             ],
             [
              0.1111111111111111,
              "#46039f"
             ],
             [
              0.2222222222222222,
              "#7201a8"
             ],
             [
              0.3333333333333333,
              "#9c179e"
             ],
             [
              0.4444444444444444,
              "#bd3786"
             ],
             [
              0.5555555555555556,
              "#d8576b"
             ],
             [
              0.6666666666666666,
              "#ed7953"
             ],
             [
              0.7777777777777778,
              "#fb9f3a"
             ],
             [
              0.8888888888888888,
              "#fdca26"
             ],
             [
              1,
              "#f0f921"
             ]
            ],
            "type": "heatmap"
           }
          ],
          "heatmapgl": [
           {
            "colorbar": {
             "outlinewidth": 0,
             "ticks": ""
            },
            "colorscale": [
             [
              0,
              "#0d0887"
             ],
             [
              0.1111111111111111,
              "#46039f"
             ],
             [
              0.2222222222222222,
              "#7201a8"
             ],
             [
              0.3333333333333333,
              "#9c179e"
             ],
             [
              0.4444444444444444,
              "#bd3786"
             ],
             [
              0.5555555555555556,
              "#d8576b"
             ],
             [
              0.6666666666666666,
              "#ed7953"
             ],
             [
              0.7777777777777778,
              "#fb9f3a"
             ],
             [
              0.8888888888888888,
              "#fdca26"
             ],
             [
              1,
              "#f0f921"
             ]
            ],
            "type": "heatmapgl"
           }
          ],
          "histogram": [
           {
            "marker": {
             "pattern": {
              "fillmode": "overlay",
              "size": 10,
              "solidity": 0.2
             }
            },
            "type": "histogram"
           }
          ],
          "histogram2d": [
           {
            "colorbar": {
             "outlinewidth": 0,
             "ticks": ""
            },
            "colorscale": [
             [
              0,
              "#0d0887"
             ],
             [
              0.1111111111111111,
              "#46039f"
             ],
             [
              0.2222222222222222,
              "#7201a8"
             ],
             [
              0.3333333333333333,
              "#9c179e"
             ],
             [
              0.4444444444444444,
              "#bd3786"
             ],
             [
              0.5555555555555556,
              "#d8576b"
             ],
             [
              0.6666666666666666,
              "#ed7953"
             ],
             [
              0.7777777777777778,
              "#fb9f3a"
             ],
             [
              0.8888888888888888,
              "#fdca26"
             ],
             [
              1,
              "#f0f921"
             ]
            ],
            "type": "histogram2d"
           }
          ],
          "histogram2dcontour": [
           {
            "colorbar": {
             "outlinewidth": 0,
             "ticks": ""
            },
            "colorscale": [
             [
              0,
              "#0d0887"
             ],
             [
              0.1111111111111111,
              "#46039f"
             ],
             [
              0.2222222222222222,
              "#7201a8"
             ],
             [
              0.3333333333333333,
              "#9c179e"
             ],
             [
              0.4444444444444444,
              "#bd3786"
             ],
             [
              0.5555555555555556,
              "#d8576b"
             ],
             [
              0.6666666666666666,
              "#ed7953"
             ],
             [
              0.7777777777777778,
              "#fb9f3a"
             ],
             [
              0.8888888888888888,
              "#fdca26"
             ],
             [
              1,
              "#f0f921"
             ]
            ],
            "type": "histogram2dcontour"
           }
          ],
          "mesh3d": [
           {
            "colorbar": {
             "outlinewidth": 0,
             "ticks": ""
            },
            "type": "mesh3d"
           }
          ],
          "parcoords": [
           {
            "line": {
             "colorbar": {
              "outlinewidth": 0,
              "ticks": ""
             }
            },
            "type": "parcoords"
           }
          ],
          "pie": [
           {
            "automargin": true,
            "type": "pie"
           }
          ],
          "scatter": [
           {
            "fillpattern": {
             "fillmode": "overlay",
             "size": 10,
             "solidity": 0.2
            },
            "type": "scatter"
           }
          ],
          "scatter3d": [
           {
            "line": {
             "colorbar": {
              "outlinewidth": 0,
              "ticks": ""
             }
            },
            "marker": {
             "colorbar": {
              "outlinewidth": 0,
              "ticks": ""
             }
            },
            "type": "scatter3d"
           }
          ],
          "scattercarpet": [
           {
            "marker": {
             "colorbar": {
              "outlinewidth": 0,
              "ticks": ""
             }
            },
            "type": "scattercarpet"
           }
          ],
          "scattergeo": [
           {
            "marker": {
             "colorbar": {
              "outlinewidth": 0,
              "ticks": ""
             }
            },
            "type": "scattergeo"
           }
          ],
          "scattergl": [
           {
            "marker": {
             "colorbar": {
              "outlinewidth": 0,
              "ticks": ""
             }
            },
            "type": "scattergl"
           }
          ],
          "scattermapbox": [
           {
            "marker": {
             "colorbar": {
              "outlinewidth": 0,
              "ticks": ""
             }
            },
            "type": "scattermapbox"
           }
          ],
          "scatterpolar": [
           {
            "marker": {
             "colorbar": {
              "outlinewidth": 0,
              "ticks": ""
             }
            },
            "type": "scatterpolar"
           }
          ],
          "scatterpolargl": [
           {
            "marker": {
             "colorbar": {
              "outlinewidth": 0,
              "ticks": ""
             }
            },
            "type": "scatterpolargl"
           }
          ],
          "scatterternary": [
           {
            "marker": {
             "colorbar": {
              "outlinewidth": 0,
              "ticks": ""
             }
            },
            "type": "scatterternary"
           }
          ],
          "surface": [
           {
            "colorbar": {
             "outlinewidth": 0,
             "ticks": ""
            },
            "colorscale": [
             [
              0,
              "#0d0887"
             ],
             [
              0.1111111111111111,
              "#46039f"
             ],
             [
              0.2222222222222222,
              "#7201a8"
             ],
             [
              0.3333333333333333,
              "#9c179e"
             ],
             [
              0.4444444444444444,
              "#bd3786"
             ],
             [
              0.5555555555555556,
              "#d8576b"
             ],
             [
              0.6666666666666666,
              "#ed7953"
             ],
             [
              0.7777777777777778,
              "#fb9f3a"
             ],
             [
              0.8888888888888888,
              "#fdca26"
             ],
             [
              1,
              "#f0f921"
             ]
            ],
            "type": "surface"
           }
          ],
          "table": [
           {
            "cells": {
             "fill": {
              "color": "#EBF0F8"
             },
             "line": {
              "color": "white"
             }
            },
            "header": {
             "fill": {
              "color": "#C8D4E3"
             },
             "line": {
              "color": "white"
             }
            },
            "type": "table"
           }
          ]
         },
         "layout": {
          "annotationdefaults": {
           "arrowcolor": "#2a3f5f",
           "arrowhead": 0,
           "arrowwidth": 1
          },
          "autotypenumbers": "strict",
          "coloraxis": {
           "colorbar": {
            "outlinewidth": 0,
            "ticks": ""
           }
          },
          "colorscale": {
           "diverging": [
            [
             0,
             "#8e0152"
            ],
            [
             0.1,
             "#c51b7d"
            ],
            [
             0.2,
             "#de77ae"
            ],
            [
             0.3,
             "#f1b6da"
            ],
            [
             0.4,
             "#fde0ef"
            ],
            [
             0.5,
             "#f7f7f7"
            ],
            [
             0.6,
             "#e6f5d0"
            ],
            [
             0.7,
             "#b8e186"
            ],
            [
             0.8,
             "#7fbc41"
            ],
            [
             0.9,
             "#4d9221"
            ],
            [
             1,
             "#276419"
            ]
           ],
           "sequential": [
            [
             0,
             "#0d0887"
            ],
            [
             0.1111111111111111,
             "#46039f"
            ],
            [
             0.2222222222222222,
             "#7201a8"
            ],
            [
             0.3333333333333333,
             "#9c179e"
            ],
            [
             0.4444444444444444,
             "#bd3786"
            ],
            [
             0.5555555555555556,
             "#d8576b"
            ],
            [
             0.6666666666666666,
             "#ed7953"
            ],
            [
             0.7777777777777778,
             "#fb9f3a"
            ],
            [
             0.8888888888888888,
             "#fdca26"
            ],
            [
             1,
             "#f0f921"
            ]
           ],
           "sequentialminus": [
            [
             0,
             "#0d0887"
            ],
            [
             0.1111111111111111,
             "#46039f"
            ],
            [
             0.2222222222222222,
             "#7201a8"
            ],
            [
             0.3333333333333333,
             "#9c179e"
            ],
            [
             0.4444444444444444,
             "#bd3786"
            ],
            [
             0.5555555555555556,
             "#d8576b"
            ],
            [
             0.6666666666666666,
             "#ed7953"
            ],
            [
             0.7777777777777778,
             "#fb9f3a"
            ],
            [
             0.8888888888888888,
             "#fdca26"
            ],
            [
             1,
             "#f0f921"
            ]
           ]
          },
          "colorway": [
           "#636efa",
           "#EF553B",
           "#00cc96",
           "#ab63fa",
           "#FFA15A",
           "#19d3f3",
           "#FF6692",
           "#B6E880",
           "#FF97FF",
           "#FECB52"
          ],
          "font": {
           "color": "#2a3f5f"
          },
          "geo": {
           "bgcolor": "white",
           "lakecolor": "white",
           "landcolor": "#E5ECF6",
           "showlakes": true,
           "showland": true,
           "subunitcolor": "white"
          },
          "hoverlabel": {
           "align": "left"
          },
          "hovermode": "closest",
          "mapbox": {
           "style": "light"
          },
          "paper_bgcolor": "white",
          "plot_bgcolor": "#E5ECF6",
          "polar": {
           "angularaxis": {
            "gridcolor": "white",
            "linecolor": "white",
            "ticks": ""
           },
           "bgcolor": "#E5ECF6",
           "radialaxis": {
            "gridcolor": "white",
            "linecolor": "white",
            "ticks": ""
           }
          },
          "scene": {
           "xaxis": {
            "backgroundcolor": "#E5ECF6",
            "gridcolor": "white",
            "gridwidth": 2,
            "linecolor": "white",
            "showbackground": true,
            "ticks": "",
            "zerolinecolor": "white"
           },
           "yaxis": {
            "backgroundcolor": "#E5ECF6",
            "gridcolor": "white",
            "gridwidth": 2,
            "linecolor": "white",
            "showbackground": true,
            "ticks": "",
            "zerolinecolor": "white"
           },
           "zaxis": {
            "backgroundcolor": "#E5ECF6",
            "gridcolor": "white",
            "gridwidth": 2,
            "linecolor": "white",
            "showbackground": true,
            "ticks": "",
            "zerolinecolor": "white"
           }
          },
          "shapedefaults": {
           "line": {
            "color": "#2a3f5f"
           }
          },
          "ternary": {
           "aaxis": {
            "gridcolor": "white",
            "linecolor": "white",
            "ticks": ""
           },
           "baxis": {
            "gridcolor": "white",
            "linecolor": "white",
            "ticks": ""
           },
           "bgcolor": "#E5ECF6",
           "caxis": {
            "gridcolor": "white",
            "linecolor": "white",
            "ticks": ""
           }
          },
          "title": {
           "x": 0.05
          },
          "xaxis": {
           "automargin": true,
           "gridcolor": "white",
           "linecolor": "white",
           "ticks": "",
           "title": {
            "standoff": 15
           },
           "zerolinecolor": "white",
           "zerolinewidth": 2
          },
          "yaxis": {
           "automargin": true,
           "gridcolor": "white",
           "linecolor": "white",
           "ticks": "",
           "title": {
            "standoff": 15
           },
           "zerolinecolor": "white",
           "zerolinewidth": 2
          }
         }
        },
        "width": 1000,
        "xaxis": {
         "anchor": "y",
         "domain": [
          0,
          1
         ],
         "title": {
          "text": "home_possession"
         }
        },
        "yaxis": {
         "anchor": "x",
         "domain": [
          0,
          1
         ],
         "title": {
          "text": "score_home"
         }
        }
       }
      }
     },
     "metadata": {},
     "output_type": "display_data"
    }
   ],
   "source": [
    "df_match_data.describe()\n",
    "\n",
    "new_columns = ['score_penalty_home', 'score_home', 'score_away', 'score_penalty_away']\n",
    "index = 0\n",
    "while index < len(df_match_data):\n",
    "    penalty_home, home, away, penalty_away = filter_val(df_match_data.loc[index, 'score'])\n",
    "    df_match_data.loc[index, new_columns] = penalty_home, home, away, penalty_away\n",
    "    index += 1\n",
    "\n",
    "df_non_penalty_matches = df_match_data[df_match_data['score_home'] != df_match_data['score_away']]\n",
    "display(df_non_penalty_matches.head(1))\n",
    "\n",
    "fig = px.scatter(df_non_penalty_matches, x=\"home_possession\", y=\"score_home\",\n",
    "                 color=\"venue\", size=\"attendance\",\n",
    "                 width=1000, height=800)\n",
    "fig.show()\n",
    "\n"
   ]
  },
  {
   "cell_type": "code",
   "execution_count": null,
   "metadata": {},
   "outputs": [],
   "source": [
    "print(\"Defence\")\n",
    "display(df_player_defense.columns)       \n",
    "print(\"gca\")\n",
    "display(df_player_gca.columns)           \n",
    "print(\"keepers\")\n",
    "display(df_player_keepers.columns)       \n",
    "print(\"keepersadv\")\n",
    "display(df_player_keepersadv.columns)    \n",
    "print(\"misc\")\n",
    "display(df_player_misc.columns)          \n",
    "print(\"passing head\")\n",
    "display(df_player_passing.columns)       \n",
    "print(\"passing type\")\n",
    "display(df_player_passing_types.columns) \n",
    "print(\"playingtime\")\n",
    "display(df_player_playingtime.columns)   \n",
    "print(\"possession\")\n",
    "display(df_player_possession.columns)   \n",
    "print(\"shooting\")\n",
    "display(df_player_shooting.columns)      \n",
    "print(\"stats\")\n",
    "display(df_player_stats.columns)\n"
   ]
  },
  {
   "cell_type": "code",
   "execution_count": null,
   "metadata": {},
   "outputs": [],
   "source": [
    "# Penalty shootouts\n",
    "display(df_penalty_shootouts.head(1))"
   ]
  },
  {
   "cell_type": "code",
   "execution_count": null,
   "metadata": {},
   "outputs": [],
   "source": [
    "# Team data\n",
    "display(df_team_data.head(1))\n",
    "display(df_team_group_stats.head(1))"
   ]
  },
  {
   "cell_type": "code",
   "execution_count": null,
   "metadata": {},
   "outputs": [],
   "source": [
    "# Historic data\n",
    "display(df_historic_fifa_ranking.head(5))\n",
    "display(df_historic_matches_1930_2022.head(1))\n",
    "display(df_historic_world_cup.head(1))"
   ]
  },
  {
   "cell_type": "code",
   "execution_count": null,
   "id": "a72b8e08-4137-4d80-994d-99fd01b3770a",
   "metadata": {},
   "outputs": [],
   "source": [
    "showImages('A', 'Netherlands', 'Matthijs de Ligt')"
   ]
  },
  {
   "cell_type": "code",
   "execution_count": null,
   "metadata": {},
   "outputs": [],
   "source": [
    "df_tweets['Tweet Posted Time'].unique()"
   ]
  },
  {
   "cell_type": "code",
   "execution_count": null,
   "metadata": {},
   "outputs": [],
   "source": [
    "df_historic_matches_1930_2022"
   ]
  },
  {
   "cell_type": "code",
   "execution_count": null,
   "metadata": {},
   "outputs": [],
   "source": [
    "display(df_prediction_groups.head())\n",
    "display(df_prediction_matches.head())\n",
    "display(df_prediction_international_matches.head())\n",
    "display(df_prediction_world_cup_matches.head())\n",
    "display(df_prediction_world_cups.head())"
   ]
  },
  {
   "cell_type": "markdown",
   "id": "8d904e71",
   "metadata": {},
   "source": [
    "# Multiprocessing sample code"
   ]
  },
  {
   "cell_type": "code",
   "execution_count": 10,
   "id": "6b04bf9b",
   "metadata": {},
   "outputs": [],
   "source": [
    "from multiprocessing import Pool, Process\n",
    "import os\n",
    "\n",
    "def info(title):\n",
    "    print(title)\n",
    "    print(f\"module name: {__name__}\")\n",
    "    print(f\"parent process: {os.getppid()}\")\n",
    "    print(f\"process id: {os.getpid()}\")\n",
    "def name_f(name):\n",
    "    print(f'hello {name}')\n",
    "\n",
    "def f(x):\n",
    "    return x*x\n",
    "\n",
    "if __name__=='__main__':\n",
    "    with Pool(5) as p:\n",
    "        print(p.map(f,[1,2,3]))\n",
    "    \n",
    "    p = Process(target=name_f, args=('bob',))\n",
    "    p.start()\n",
    "    p.join()\n"
   ]
  },
  {
   "cell_type": "markdown",
   "id": "8616ad71",
   "metadata": {},
   "source": []
  },
  {
   "cell_type": "code",
   "execution_count": null,
   "id": "536312b5",
   "metadata": {},
   "outputs": [],
   "source": [
    "#include <stdio.h>\n",
    "#include <stdlib.h>\n",
    "#include <math.h>\n",
    "\n",
    "const double learningRate = 0.01;\n",
    "const int epochs = 1000;\n",
    "const int features = 2;\n",
    "const int classes = 2;\n",
    "\n",
    "struct LogisticRegression {\n",
    "  double** weights;\n",
    "  double* bias;\n",
    "};\n",
    "\n",
    "void logisticRegression_initialize(LogisticRegression* lr) {\n",
    "  lr->weights = malloc(classes * features * sizeof(double*));\n",
    "  for (int i = 0; i < classes; i++) {\n",
    "    lr->weights[i] = malloc(features * sizeof(double));\n",
    "  }\n",
    "  lr->bias = malloc(classes * sizeof(double));\n",
    "  for (int i = 0; i < classes; i++) {\n",
    "    for (int j = 0; j < features; j++) {\n",
    "      lr->weights[i][j] = 0;\n",
    "    }\n",
    "    lr->bias[i] = 0;\n",
    "  }\n",
    "}\n",
    "\n",
    "void logisticRegression_train(LogisticRegression* lr, double** x, double* y) {\n",
    "  for (int epoch = 0; epoch < epochs; epoch++) {\n",
    "    int correct = 0;\n",
    "    for (int i = 0; i < x.size; i++) {\n",
    "      int predictedClass = classify(lr, x[i]);\n",
    "      if (predictedClass == y[i]) {\n",
    "        correct++;\n",
    "      }\n",
    "      double error = (y[i] - predictedClass) / 2;\n",
    "      for (int j = 0; j < features; j++) {\n",
    "        lr->weights[y[i]][j] += learningRate * error * x[i][j];\n",
    "      }\n",
    "      lr->bias[y[i]] += learningRate * error;\n",
    "    }\n",
    "  }\n",
    "}\n",
    "\n",
    "int classify(LogisticRegression* lr, double* x) {\n",
    "  double sum = 0;\n",
    "  for (int i = 0; i < classes; i++) {\n",
    "    double p = sigmoid(dotProduct(lr->weights[i], x) + lr->bias[i]);\n",
    "    sum += p;\n",
    "    if (sum >= 1) {\n",
    "      return i;\n",
    "    }\n",
    "  }\n",
    "  return 0;\n",
    "}\n",
    "\n",
    "double sigmoid(double x) {\n",
    "  return 1 / (1 + exp(-x));\n",
    "}\n",
    "\n",
    "double dotProduct(double* w, double* x) {\n",
    "  double sum = 0;\n",
    "  for (int i = 0; i < x.size; i++) {\n",
    "    sum += w[i] * x[i];\n",
    "  }\n",
    "  return sum;\n",
    "}\n"
   ]
  }
 ],
 "metadata": {
  "kernelspec": {
   "display_name": "Python 3 (ipykernel)",
   "language": "python",
   "name": "python3"
  },
  "language_info": {
   "codemirror_mode": {
    "name": "ipython",
    "version": 3
   },
   "file_extension": ".py",
   "mimetype": "text/x-python",
   "name": "python",
   "nbconvert_exporter": "python",
   "pygments_lexer": "ipython3",
   "version": "3.11.7"
  }
 },
 "nbformat": 4,
 "nbformat_minor": 5
}
